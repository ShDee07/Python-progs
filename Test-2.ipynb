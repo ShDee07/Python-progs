{
 "cells": [
  {
   "cell_type": "code",
   "execution_count": 1,
   "metadata": {},
   "outputs": [
    {
     "name": "stdout",
     "output_type": "stream",
     "text": [
      "[10, 20, [300, 400, [5000, 6000, 7000], 500], 30, 40]\n"
     ]
    }
   ],
   "source": [
    "#Q-1\n",
    "list1 = [10, 20, [300, 400, [5000, 6000], 500], 30, 40]\n",
    "list1[2][2].append(7000)\n",
    "print(list1)"
   ]
  },
  {
   "cell_type": "code",
   "execution_count": 3,
   "metadata": {},
   "outputs": [
    {
     "name": "stdout",
     "output_type": "stream",
     "text": [
      "1 10\n",
      "2 9\n",
      "3 8\n",
      "4 7\n",
      "5 6\n"
     ]
    }
   ],
   "source": [
    "#Q2\n",
    "l1=[1,2,3,4,5]\n",
    "l2=[6,7,8,9,10]\n",
    "for i in range(len(l1)):\n",
    "    print(l1[i], end=\" \")\n",
    "    print(l2[len(l1)-i-1])"
   ]
  },
  {
   "cell_type": "code",
   "execution_count": 5,
   "metadata": {},
   "outputs": [
    {
     "name": "stdout",
     "output_type": "stream",
     "text": [
      "['a', 'b', ['c', ['d', 'e', ['f', 'g', 'h', 'i', 'j'], 'k'], 'l'], 'm', 'n']\n"
     ]
    }
   ],
   "source": [
    "list1 = [\"a\", \"b\", [\"c\", [\"d\", \"e\", [\"f\", \"g\"], \"k\"], \"l\"], \"m\", \"n\"]\n",
    "list1[2][1][2].extend([\"h\", \"i\", \"j\"])\n",
    "print(list1)"
   ]
  },
  {
   "cell_type": "code",
   "execution_count": 12,
   "metadata": {},
   "outputs": [
    {
     "name": "stdout",
     "output_type": "stream",
     "text": [
      "[['Arjun', 70, 98, 63, 77.0], ['Krishna', 67, 68, 69, 68.0], ['Malika', 52, 56, 60, 56.0]]\n"
     ]
    }
   ],
   "source": [
    "student=[[\"Krishna\",67,68,69],[\"Arjun\",70,98,63],[\"Malika\",52,56,60]]\n",
    "\n",
    "for i in range(len(student)):\n",
    "    student[i].append((student[i][1]+student[i][2]+student[i][3])/3)\n",
    "#print(student)\n",
    "\n",
    "def ret4(list1):\n",
    "    return list1[4]\n",
    "    \n",
    "student.sort(key=ret4,reverse=True)\n",
    "print(student)"
   ]
  },
  {
   "cell_type": "code",
   "execution_count": 16,
   "metadata": {},
   "outputs": [
    {
     "name": "stdout",
     "output_type": "stream",
     "text": [
      "[1, 2, 3, 4, 5, 6, 7, 8, -9, -10, -14, 35, -6, 57, 4, 3, 53, 21]\n",
      "[[1, 2, 3, 4, 5, 6, 7, 8, 35, 57, 4, 3, 53, 21], [-9, -10, -14, -6], [], [1, 3, 5, 7, -9, 35, 57, 3, 53, 21], [2, 4, 6, 8, -10, -14, -6, 4]]\n"
     ]
    }
   ],
   "source": [
    "l=[1,2,3,4,5,6,7,8,-9,-10,-14,35,-6,57,4,3,53,21]\n",
    "#nl=[[],[],[],[],[]]\n",
    "p=n=o=e=z=0\n",
    "for i in range(len(l)):\n",
    "    if l[i]>0:\n",
    "        p+=1\n",
    "        nl[0].extend([l[i]])\n",
    "    elif l[i]<0:\n",
    "        n+=1\n",
    "        nl[1].extend([l[i]])\n",
    "    else:\n",
    "        z+=1\n",
    "        nl[2].extend([l[i]])\n",
    "    if l[i]%2!=0:\n",
    "        o+=1\n",
    "        nl[3].extend([l[i]])\n",
    "    elif l[i]%2==0:\n",
    "        e+=1\n",
    "        nl[4].extend([l[i]])\n",
    "print(l)\n",
    "print(nl)\n",
    "        "
   ]
  },
  {
   "cell_type": "code",
   "execution_count": 3,
   "metadata": {},
   "outputs": [
    {
     "name": "stdout",
     "output_type": "stream",
     "text": [
      "Enter integer  4\n",
      "Enter integer  4\n",
      "Enter integer  7\n",
      "Enter integer  5\n",
      "Enter a number 2\n",
      " 2 not present in the current list\n"
     ]
    }
   ],
   "source": [
    "l=[]\n",
    "for i in range(4):\n",
    "   l.append(int(input(\"Enter integer  \"))) \n",
    "#print(l)\n",
    "x=int(input(\"Enter a number \"))\n",
    "f=False\n",
    "i=0\n",
    "while i<len(l) and f==False:\n",
    "    if(l[i]==x):\n",
    "        print(f\"The number {x} is present in the list\")\n",
    "        f=True\n",
    "    i+=1\n",
    "if f==False:\n",
    "    print(f\" {x} not present in the current list\")"
   ]
  },
  {
   "cell_type": "markdown",
   "metadata": {},
   "source": [
    "3## "
   ]
  }
 ],
 "metadata": {
  "kernelspec": {
   "display_name": "Python 3",
   "language": "python",
   "name": "python3"
  },
  "language_info": {
   "codemirror_mode": {
    "name": "ipython",
    "version": 3
   },
   "file_extension": ".py",
   "mimetype": "text/x-python",
   "name": "python",
   "nbconvert_exporter": "python",
   "pygments_lexer": "ipython3",
   "version": "3.8.3"
  }
 },
 "nbformat": 4,
 "nbformat_minor": 4
}
